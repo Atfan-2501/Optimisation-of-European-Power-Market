{
 "cells": [
  {
   "cell_type": "code",
   "execution_count": 82,
   "metadata": {},
   "outputs": [],
   "source": [
    "import pandas as pd\n",
    "from gurobipy import *\n",
    "import numpy as np\n"
   ]
  },
  {
   "cell_type": "code",
   "execution_count": 94,
   "metadata": {},
   "outputs": [],
   "source": [
    "# Reading the data from the excel sheets\n",
    "source_df = pd.read_excel(\"Source_facility_info.xlsx\", sheet_name=\"PZA\")\n",
    "destination_df = pd.read_excel(\"Destination_facility_info.xlsx\", sheet_name=\"PZE\")\n",
    "trucking_df = pd.read_excel(\"Trucking_info.xlsx\", sheet_name=\"Truck\")\n",
    "\n",
    "# Convert relevant columns to datetime and normalize shift times\n",
    "def normalize_shift_times(row):\n",
    "    start_hour = row['Start of shift'].hour + row['Start of shift'].minute / 60\n",
    "    end_hour = row['End of lay-on'].hour + row['End of lay-on'].minute / 60\n",
    "    if end_hour < start_hour:\n",
    "        end_hour += 24  # normalize end_hour for the next day\n",
    "    return pd.Series([start_hour, end_hour])\n",
    "\n",
    "destination_df[['Start of shift', 'End of lay-on']] = destination_df.apply(normalize_shift_times, axis=1)\n",
    "source_df['planned_end_of_loading'] = pd.to_datetime(source_df['planned_end_of_loading'])\n",
    "\n"
   ]
  },
  {
   "cell_type": "code",
   "execution_count": 95,
   "metadata": {},
   "outputs": [],
   "source": [
    "# Initialize the model\n",
    "model = Model(\"DHL_Optimization\")\n",
    "\n",
    "# Decision Variables\n",
    "source_list = list(trucking_df['Origin_ID'].unique()[:5])  # Index of PZA\n",
    "destination_list = list(trucking_df['Destination_ID'].unique()[:5])  # Index of PZE\n",
    "routes_list = [(i, j) for i in source_list for j in destination_list if i != j]\n",
    "consignment_list = [\n",
    "    x for (i, j) in routes_list\n",
    "    for x in source_df[(source_df['Origin_ID'] == i) & (source_df['Destination_ID'] == j)]['id'].values\n",
    "]\n",
    "\n",
    "valid_combinations = [(i, j, k) for (i, j) in routes_list for k in consignment_list if k in source_df[(source_df['Origin_ID'] == i) & (source_df['Destination_ID'] == j)]['id'].values]\n",
    "\n",
    "trucks = range(300)\n",
    "\n",
    "# Decision Variables\n",
    "X = {}\n",
    "Z = {}\n",
    "T = {}\n",
    "ArrivalDay = {}\n",
    "ArrivalTime = {}\n",
    "ArrivalDayBinary = {}\n",
    "\n",
    "for (i, j, k, l) in [(i, j, k, l) for (i, j, k) in valid_combinations for l in trucks]:\n",
    "    X[(i, j, k, l)] = model.addVar(vtype=GRB.BINARY, name=f\"X_{i}_{j}_{k}_{l}\")\n",
    "\n",
    "for l in trucks:\n",
    "    Z[l] = model.addVar(vtype=GRB.BINARY, name=f\"Z_{l}\")\n",
    "    T[l] = model.addVar(lb=0, vtype=GRB.CONTINUOUS, name=f\"T_{l}\")\n",
    "    ArrivalDay[l] = model.addVar(lb = 0, ub=3, vtype=GRB.INTEGER, name=f\"ArrivalDay_{l}\")\n",
    "    ArrivalTime[l] = model.addVar(lb=0, ub=24, vtype=GRB.CONTINUOUS, name=f\"ArrivalTime_{i}_{j}_{k}_{l}\")\n",
    "\n",
    "    for d in range(4):  # Maximum number of days to consider\n",
    "        ArrivalDayBinary[(l, d)] = model.addVar(vtype=GRB.BINARY, name=f\"ArrivalDayBinary_{l}_{d}\")\n"
   ]
  },
  {
   "cell_type": "code",
   "execution_count": 96,
   "metadata": {},
   "outputs": [],
   "source": [
    "# Objective function: Minimize the total arrival time\n",
    "model.setObjective(\n",
    "    quicksum(X[i, j, k, l] for (i, j, k, l) in [(i, j, k, l) for (i, j, k) in valid_combinations for l in trucks]) \n",
    "    - quicksum(Z[l] for l in trucks) \n",
    "    - quicksum(ArrivalDay[l] for l in trucks), \n",
    "    GRB.MAXIMIZE\n",
    ")"
   ]
  },
  {
   "cell_type": "code",
   "execution_count": 97,
   "metadata": {},
   "outputs": [],
   "source": [
    "# Constraints\n",
    "# 1. Each truck can carry at most 2 consignments\n",
    "for l in trucks:\n",
    "    model.addConstr(quicksum(X[(i, j, k, l)] for (i, j, k) in valid_combinations) <= 2 * Z[l])"
   ]
  },
  {
   "cell_type": "code",
   "execution_count": 98,
   "metadata": {},
   "outputs": [],
   "source": [
    "# 2. Consignment can only be released after the latest release time of the consignments\n",
    "for (i, j, k) in valid_combinations:\n",
    "    release_time = source_df[source_df['id'] == k]['planned_end_of_loading'].dt.hour.values[0]  # Convert to hours\n",
    "    for l in trucks:\n",
    "        model.addConstr(T[l] >= release_time * X[(i, j, k, l)])"
   ]
  },
  {
   "cell_type": "code",
   "execution_count": 99,
   "metadata": {},
   "outputs": [],
   "source": [
    "# Constraint 3: Truck must arrive at the destination within the operational hours\n",
    "for (i, j, k) in valid_combinations:\n",
    "    start_shift = destination_df[destination_df['Destination_ID'] == j]['Start of shift'].values[0]\n",
    "    end_shift = destination_df[destination_df['Destination_ID'] == j]['End of lay-on'].values[0]\n",
    "    travel_time = trucking_df[(trucking_df['Origin_ID'] == i) & (trucking_df['Destination_ID'] == j)]['OSRM_time [sek]'].values[0] / 3600  # Convert to hours\n",
    "    # print(f\"Route {i}->{j}->{k} | Start Shift: {start_shift}, End Shift: {end_shift}, Travel Time: {travel_time}\")\n",
    "    for l in trucks:\n",
    "        ArrivalTime[(l)] = (T[l] + travel_time * X[(i, j, k, l)] + 24 * ArrivalDay[l]) - 24 * model.addVar(vtype=GRB.INTEGER, name=f\"multiplier_{i}_{j}_{k}_{l}\")\n",
    "        model.addConstr(ArrivalTime[(l)] >= start_shift)\n",
    "        model.addConstr(ArrivalTime[(l)] <= end_shift)"
   ]
  },
  {
   "cell_type": "code",
   "execution_count": 100,
   "metadata": {},
   "outputs": [],
   "source": [
    "# 4. Each consignment must be assigned to exactly one truck\n",
    "for (i, j, k) in valid_combinations:\n",
    "    model.addConstr(quicksum(X[(i, j, k, l)] for l in trucks if (i, j, k) in valid_combinations) == 1)"
   ]
  },
  {
   "cell_type": "code",
   "execution_count": 90,
   "metadata": {},
   "outputs": [],
   "source": [
    "# M=4\n",
    "# for l in trucks:\n",
    "#     for d in range(4):  # Maximum number of days to consider\n",
    "#         # model.addConstr((ArrivalDay[l] == d) >> (ArrivalDayBinary[(l, d)] == 1))\n",
    "#         # model.addConstr((ArrivalDay[l] != d) >> (ArrivalDayBinary[(l, d)] == 0))\n",
    "#         model.addConstr(ArrivalDay[l] - d <= M * (1 - ArrivalDayBinary[(l, d)]))\n",
    "#         model.addConstr(ArrivalDay[l] - d >= 1 - M * ArrivalDayBinary[(l, d)])"
   ]
  },
  {
   "cell_type": "code",
   "execution_count": 101,
   "metadata": {},
   "outputs": [
    {
     "name": "stdout",
     "output_type": "stream",
     "text": [
      "15000\n",
      "15000\n",
      "30000\n",
      "30000\n",
      "40000\n"
     ]
    }
   ],
   "source": [
    "for j in destination_list:\n",
    "    # working_hours = destination_df[destination_df['Destination_ID'] == j]['End of lay-on'].values[0] - destination_df[destination_df['Destination_ID'] == j]['Start of shift'].values[0]\n",
    "    sorting_capacity_per_day =  destination_df[destination_df['Destination_ID'] == j]['Sorting capacity'].values[0]\n",
    "    print(sorting_capacity_per_day)\n",
    "    for d in range(4):  # Maximum number of days to consider\n",
    "        model.addConstr(\n",
    "            quicksum(X[(i, j, k, l)] * source_df[source_df['id'] == k]['Consignment quantity'].values[0] * ArrivalDayBinary[(l, d)]\n",
    "                     for i in source_list if j != i\n",
    "                     for k in consignment_list\n",
    "                     for l in trucks\n",
    "                     if (i, j, k) in valid_combinations) <= sorting_capacity_per_day,\n",
    "            name=f\"SortingCapacity_{j}_{d}\"\n",
    "        )\n"
   ]
  },
  {
   "cell_type": "code",
   "execution_count": 92,
   "metadata": {},
   "outputs": [],
   "source": [
    "# model.setParam('TimeLimit', 100)"
   ]
  },
  {
   "cell_type": "code",
   "execution_count": 102,
   "metadata": {},
   "outputs": [
    {
     "name": "stdout",
     "output_type": "stream",
     "text": [
      "Gurobi Optimizer version 11.0.2 build v11.0.2rc0 (win64 - Windows 11.0 (22631.2))\n",
      "\n",
      "CPU model: 12th Gen Intel(R) Core(TM) i5-1240P, instruction set [SSE2|AVX|AVX2]\n",
      "Thread count: 12 physical cores, 16 logical processors, using up to 16 threads\n",
      "\n",
      "Optimize a model with 430978 rows, 289200 columns and 1721100 nonzeros\n",
      "Model fingerprint: 0x8c56451d\n",
      "Model has 20 quadratic constraints\n",
      "Variable types: 600 continuous, 288600 integer (144900 binary)\n",
      "Coefficient statistics:\n",
      "  Matrix range     [1e+00, 2e+01]\n",
      "  QMatrix range    [2e+02, 2e+03]\n",
      "  Objective range  [1e+00, 1e+00]\n",
      "  Bounds range     [1e+00, 2e+01]\n",
      "  RHS range        [1e+00, 3e+01]\n",
      "  QRHS range       [2e+04, 4e+04]\n",
      "Presolve removed 0 rows and 300 columns\n",
      "Presolve time: 3.60s\n",
      "Presolved: 1004598 rows, 862500 columns, 4015500 nonzeros\n",
      "Variable types: 300 continuous, 862200 integer (718500 binary)\n",
      "Found heuristic solution: objective 239.0000000\n",
      "Deterministic concurrent LP optimizer: primal simplex, dual simplex, and barrier\n",
      "Showing barrier log only...\n",
      "\n",
      "Root barrier log...\n",
      "\n",
      "Ordering time: 0.00s\n",
      "\n",
      "Barrier statistics:\n",
      " AA' NZ     : 1.434e+05\n",
      " Factor NZ  : 3.030e+05 (roughly 60 MB of memory)\n",
      " Factor Ops : 1.573e+08 (less than 1 second per iteration)\n",
      " Threads    : 10\n",
      "\n",
      "Barrier performed 0 iterations in 11.81 seconds (15.68 work units)\n",
      "Barrier solve interrupted - model solved by another algorithm\n",
      "\n",
      "Concurrent spin time: 0.07s\n",
      "\n",
      "Solved with dual simplex\n",
      "\n",
      "Root relaxation: cutoff, 0 iterations, 0.82 seconds (1.15 work units)\n",
      "\n",
      "Explored 1 nodes (0 simplex iterations) in 11.87 seconds (15.68 work units)\n",
      "Thread count was 16 (of 16 available processors)\n",
      "\n",
      "Solution count 1: 239 \n",
      "\n",
      "Optimal solution found (tolerance 1.00e-04)\n",
      "Best objective 2.390000000000e+02, best bound 2.390000000000e+02, gap 0.0000%\n"
     ]
    }
   ],
   "source": [
    "# Solve the model\n",
    "model.optimize()"
   ]
  },
  {
   "cell_type": "code",
   "execution_count": 107,
   "metadata": {},
   "outputs": [
    {
     "ename": "AttributeError",
     "evalue": "'gurobipy.LinExpr' object has no attribute 'X'",
     "output_type": "error",
     "traceback": [
      "\u001b[1;31m---------------------------------------------------------------------------\u001b[0m",
      "\u001b[1;31mAttributeError\u001b[0m                            Traceback (most recent call last)",
      "Cell \u001b[1;32mIn[107], line 19\u001b[0m\n\u001b[0;32m     10\u001b[0m   travel_time \u001b[38;5;241m=\u001b[39m trucking_df[(trucking_df[\u001b[38;5;124m'\u001b[39m\u001b[38;5;124mOrigin_ID\u001b[39m\u001b[38;5;124m'\u001b[39m] \u001b[38;5;241m==\u001b[39m i) \u001b[38;5;241m&\u001b[39m (trucking_df[\u001b[38;5;124m'\u001b[39m\u001b[38;5;124mDestination_ID\u001b[39m\u001b[38;5;124m'\u001b[39m] \u001b[38;5;241m==\u001b[39m j)][\u001b[38;5;124m'\u001b[39m\u001b[38;5;124mOSRM_time [sek]\u001b[39m\u001b[38;5;124m'\u001b[39m]\u001b[38;5;241m.\u001b[39mvalues[\u001b[38;5;241m0\u001b[39m] \u001b[38;5;241m/\u001b[39m \u001b[38;5;241m3600\u001b[39m\n\u001b[0;32m     11\u001b[0m   arrival_time \u001b[38;5;241m=\u001b[39m T[l]\u001b[38;5;241m.\u001b[39mX \u001b[38;5;241m+\u001b[39m travel_time\n\u001b[0;32m     12\u001b[0m   data\u001b[38;5;241m.\u001b[39mappend({\n\u001b[0;32m     13\u001b[0m       \u001b[38;5;124m'\u001b[39m\u001b[38;5;124mOrigin(PZA)\u001b[39m\u001b[38;5;124m'\u001b[39m: i,\n\u001b[0;32m     14\u001b[0m       \u001b[38;5;124m'\u001b[39m\u001b[38;5;124mDestination (PZE)\u001b[39m\u001b[38;5;124m'\u001b[39m: j,\n\u001b[0;32m     15\u001b[0m       \u001b[38;5;124m'\u001b[39m\u001b[38;5;124mConsignment ID\u001b[39m\u001b[38;5;124m'\u001b[39m: k,\n\u001b[0;32m     16\u001b[0m       \u001b[38;5;124m'\u001b[39m\u001b[38;5;124mTruck Id\u001b[39m\u001b[38;5;124m'\u001b[39m: l,\n\u001b[0;32m     17\u001b[0m       \u001b[38;5;124m'\u001b[39m\u001b[38;5;124mDeparture time\u001b[39m\u001b[38;5;124m'\u001b[39m: T[l]\u001b[38;5;241m.\u001b[39mX,\n\u001b[0;32m     18\u001b[0m       \u001b[38;5;124m'\u001b[39m\u001b[38;5;124mArrival Day\u001b[39m\u001b[38;5;124m'\u001b[39m: ArrivalDay[l]\u001b[38;5;241m.\u001b[39mX,\n\u001b[1;32m---> 19\u001b[0m       \u001b[38;5;124m'\u001b[39m\u001b[38;5;124mArrival Time\u001b[39m\u001b[38;5;124m'\u001b[39m: \u001b[43mArrivalTime\u001b[49m\u001b[43m[\u001b[49m\u001b[43ml\u001b[49m\u001b[43m]\u001b[49m\u001b[38;5;241;43m.\u001b[39;49m\u001b[43mX\u001b[49m,\n\u001b[0;32m     20\u001b[0m       \u001b[38;5;124m\"\u001b[39m\u001b[38;5;124mDestination Start Shift\u001b[39m\u001b[38;5;124m\"\u001b[39m: start_shift,\n\u001b[0;32m     21\u001b[0m       \u001b[38;5;124m\"\u001b[39m\u001b[38;5;124mDestination End Shift\u001b[39m\u001b[38;5;124m\"\u001b[39m: end_shift,\n\u001b[0;32m     22\u001b[0m       \u001b[38;5;124m\"\u001b[39m\u001b[38;5;124mTravel Time\u001b[39m\u001b[38;5;124m\"\u001b[39m: travel_time\n\u001b[0;32m     23\u001b[0m       \n\u001b[0;32m     24\u001b[0m })\n",
      "\u001b[1;31mAttributeError\u001b[0m: 'gurobipy.LinExpr' object has no attribute 'X'"
     ]
    }
   ],
   "source": [
    "# Accessing ArrivalDay values after optimization\n",
    "if model.status in [GRB.OPTIMAL, GRB.TIME_LIMIT, GRB.SUBOPTIMAL]:\n",
    "    # Extract the data into a DataFrame\n",
    "    data = []\n",
    "    k_set = set()\n",
    "    for (i, j, k, l) in X.keys():\n",
    "        if (Z[l].X == 1 ) and (X[i,j,k,l].X == 1.0):\n",
    "            start_shift = destination_df[destination_df['Destination_ID'] == j]['Start of shift'].values[0]\n",
    "            end_shift = destination_df[destination_df['Destination_ID'] == j]['End of lay-on'].values[0]\n",
    "            travel_time = trucking_df[(trucking_df['Origin_ID'] == i) & (trucking_df['Destination_ID'] == j)]['OSRM_time [sek]'].values[0] / 3600\n",
    "            arrival_time = T[l].X + travel_time\n",
    "            data.append({\n",
    "                'Origin(PZA)': i,\n",
    "                'Destination (PZE)': j,\n",
    "                'Consignment ID': k,\n",
    "                'Truck Id': l,\n",
    "                'Departure time': T[l].X,\n",
    "                'Arrival Day': ArrivalDay[l].X,\n",
    "                'Arrival Time': ArrivalTime[l].X11111111\n",
    "    1-------------------------------------------------------------------------------------------------------------------------------------------------------------------------------------------------------------------------------------------------------------------------------------------------------------------------------------------------------------------------------------------------------------------------------------------------------------------------------------------------------------------------------------------------------------------------------------------------------------------------------------------------------------------------------------------------------------------------------------------------------------------------------------------------------------------------------------------------------------------------------------------------------------------------------------------------------------------------------------------------\\\\\\\\\\\\\\\\\\\\\\\\\\\\\\\\\\\\\\\\\\\\\\\\\\\\\\\\\\\\\\\\\\\\\\\\\\\\\\\\\\\\\\\\\\\\\\\\\\\\\\\\\\\\\\\\\\\\\\\\\\\\\\\\\\\\\\\\\\\\\\\\\\\\\\\\\\\\\\\\\\\\\\\\\\\\\\\\\\\\\\\\\\\\\\\\\\\\\\\\\\\\\\\\\\\\\\\\-------------------------------------------------------------------------------------------------------------------------------------------------------------------------------------------------------------------------------------------------------------------------------------------------------------------------------------------------------------------------------------------------------------------------------------qqqwerastd(zf)x_o\n",
    "    \":\",\n",
    "                \"Destination Start Shift\": start_shift,\n",
    "                \"Destination End Shift\": end_shift,\n",
    "                \"Travel Time\": travel_time\n",
    "                \n",
    "          })"
   ]
  },
  {
   "cell_type": "code",
   "execution_count": 104,
   "metadata": {},
   "outputs": [],
   "source": [
    "df = pd.DataFrame(data)"
   ]
  },
  {
   "cell_type": "code",
   "execution_count": 106,
   "metadata": {},
   "outputs": [],
   "source": [
    "import os\n",
    "path = os.getcwd()\n",
    "df.to_csv(\"output/output.csv\")"
   ]
  },
  {
   "cell_type": "code",
   "execution_count": null,
   "metadata": {},
   "outputs": [],
   "source": []
  }
 ],
 "metadata": {
  "kernelspec": {
   "display_name": "Python 3",
   "language": "python",
   "name": "python3"
  },
  "language_info": {
   "codemirror_mode": {
    "name": "ipython",
    "version": 3
   },
   "file_extension": ".py",
   "mimetype": "text/x-python",
   "name": "python",
   "nbconvert_exporter": "python",
   "pygments_lexer": "ipython3",
   "version": "3.11.9"
  }
 },
 "nbformat": 4,
 "nbformat_minor": 2
}
