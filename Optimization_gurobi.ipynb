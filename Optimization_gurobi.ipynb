{
 "cells": [
  {
   "cell_type": "code",
   "execution_count": null,
   "metadata": {},
   "outputs": [],
   "source": [
    "!pip install gurobipy"
   ]
  },
  {
   "cell_type": "code",
   "execution_count": 51,
   "metadata": {},
   "outputs": [],
   "source": [
    "import pandas as pd\n",
    "from gurobipy import *\n",
    "import numpy as np\n"
   ]
  },
  {
   "cell_type": "code",
   "execution_count": 99,
   "metadata": {},
   "outputs": [],
   "source": [
    "# Reading the data from the excel sheets\n",
    "source_df = pd.read_excel(\"Source_facility_info.xlsx\", sheet_name=\"PZA\")\n",
    "destination_df = pd.read_excel(\"Destination_facility_info.xlsx\", sheet_name=\"PZE\")\n",
    "trucking_df = pd.read_excel(\"Trucking_info.xlsx\", sheet_name=\"Truck\")\n",
    "\n",
    "# Convert relevant columns to datetime and normalize shift times\n",
    "def normalize_shift_times(row):\n",
    "    start_hour = row['Start of shift'].hour + row['Start of shift'].minute / 60\n",
    "    end_hour = row['End of lay-on'].hour + row['End of lay-on'].minute / 60\n",
    "    if end_hour < start_hour:\n",
    "        end_hour += 24  # normalize end_hour for the next day\n",
    "    return pd.Series([start_hour, end_hour])\n",
    "\n",
    "destination_df[['Start of shift', 'End of lay-on']] = destination_df.apply(normalize_shift_times, axis=1)\n",
    "source_df['planned_end_of_loading'] = pd.to_datetime(source_df['planned_end_of_loading'])\n",
    "\n"
   ]
  },
  {
   "cell_type": "code",
   "execution_count": 100,
   "metadata": {},
   "outputs": [],
   "source": [
    "# Initialize the model\n",
    "model = Model(\"DHL_Optimization\")\n",
    "\n",
    "# Decision Variables\n",
    "source_list = list(trucking_df['Origin_ID'].unique()[:5])  # Index of PZA\n",
    "destination_list = list(trucking_df['Destination_ID'].unique()[:5])  # Index of PZE\n",
    "routes_list = [(i, j) for i in source_list for j in destination_list if i != j]\n",
    "consignment_list = [\n",
    "    x for (i, j) in routes_list\n",
    "    for x in source_df[(source_df['Origin_ID'] == i) & (source_df['Destination_ID'] == j)]['id'].values\n",
    "]\n",
    "\n",
    "valid_combinations = [(i, j, k) for (i, j) in routes_list for k in consignment_list if k in source_df[(source_df['Origin_ID'] == i) & (source_df['Destination_ID'] == j)]['id'].values]\n",
    "\n",
    "trucks = range(300)\n",
    "\n",
    "# Decision Variables\n",
    "X = {}\n",
    "Z = {}\n",
    "T = {}\n",
    "ArrivalDay = {}\n",
    "ArrivalTime = {}\n",
    "ArrivalDayBinary = {}\n",
    "\n",
    "for (i, j, k, l) in [(i, j, k, l) for (i, j, k) in valid_combinations for l in trucks]:\n",
    "    X[(i, j, k, l)] = model.addVar(vtype=GRB.BINARY, name=f\"X_{i}_{j}_{k}_{l}\")\n",
    "\n",
    "for l in trucks:\n",
    "    Z[l] = model.addVar(vtype=GRB.BINARY, name=f\"Z_{l}\")\n",
    "    T[l] = model.addVar(lb=0, vtype=GRB.CONTINUOUS, name=f\"T_{l}\")\n",
    "    ArrivalDay[l] = model.addVar(lb = 0, ub=3, vtype=GRB.INTEGER, name=f\"ArrivalDay_{l}\")\n",
    "    for d in range(4):  # Maximum number of days to consider\n",
    "        ArrivalDayBinary[(l, d)] = model.addVar(vtype=GRB.BINARY, name=f\"ArrivalDayBinary_{l}_{d}\")\n",
    "    #ArrivalTime[l] = model.addVar(lb=0, ub=24, vtype=GRB.CONTINUOUS, name=f\"ArrivalTime_{i}_{j}_{k}_{l}\")\n"
   ]
  },
  {
   "cell_type": "code",
   "execution_count": 101,
   "metadata": {},
   "outputs": [],
   "source": [
    "# Objective function: Minimize the total arrival time\n",
    "model.setObjective(\n",
    "    quicksum(X[i, j, k, l] for (i, j, k, l) in [(i, j, k, l) for (i, j, k) in valid_combinations for l in trucks]) \n",
    "    - quicksum(Z[l] for l in trucks) \n",
    "    - quicksum(ArrivalDay[l] for l in trucks), \n",
    "    GRB.MAXIMIZE\n",
    ")"
   ]
  },
  {
   "cell_type": "code",
   "execution_count": 102,
   "metadata": {},
   "outputs": [],
   "source": [
    "# Constraints\n",
    "# 1. Each truck can carry at most 2 consignments\n",
    "for l in trucks:\n",
    "    model.addConstr(quicksum(X[(i, j, k, l)] for (i, j, k) in valid_combinations) <= 2 * Z[l])"
   ]
  },
  {
   "cell_type": "code",
   "execution_count": 103,
   "metadata": {},
   "outputs": [],
   "source": [
    "# 2. Consignment can only be released after the latest release time of the consignments\n",
    "for (i, j, k) in valid_combinations:\n",
    "    release_time = source_df[source_df['id'] == k]['planned_end_of_loading'].dt.hour.values[0]  # Convert to hours\n",
    "    for l in trucks:\n",
    "        model.addConstr(T[l] >= release_time * X[(i, j, k, l)])"
   ]
  },
  {
   "cell_type": "code",
   "execution_count": 104,
   "metadata": {},
   "outputs": [],
   "source": [
    "# Constraint 3: Truck must arrive at the destination within the operational hours\n",
    "for (i, j, k) in valid_combinations:\n",
    "    start_shift = destination_df[destination_df['Destination_ID'] == j]['Start of shift'].values[0]\n",
    "    end_shift = destination_df[destination_df['Destination_ID'] == j]['End of lay-on'].values[0]\n",
    "    travel_time = trucking_df[(trucking_df['Origin_ID'] == i) & (trucking_df['Destination_ID'] == j)]['OSRM_time [sek]'].values[0] / 3600  # Convert to hours\n",
    "    # print(f\"Route {i}->{j}->{k} | Start Shift: {start_shift}, End Shift: {end_shift}, Travel Time: {travel_time}\")\n",
    "    for l in trucks:\n",
    "        ArrivalTime[(l)] = (T[l] + travel_time * X[(i, j, k, l)] + 24 * ArrivalDay[l]) - 24 * model.addVar(vtype=GRB.INTEGER, name=f\"multiplier_{i}_{j}_{k}_{l}\")\n",
    "        model.addConstr(ArrivalTime[(l)] >= start_shift)\n",
    "        model.addConstr(ArrivalTime[(l)] <= end_shift)"
   ]
  },
  {
   "cell_type": "code",
   "execution_count": 105,
   "metadata": {},
   "outputs": [],
   "source": [
    "# 4. Each consignment must be assigned to exactly one truck\n",
    "for (i, j, k) in valid_combinations:\n",
    "    model.addConstr(quicksum(X[(i, j, k, l)] for l in trucks if (i, j, k) in valid_combinations) == 1)"
   ]
  },
  {
   "cell_type": "code",
   "execution_count": 106,
   "metadata": {},
   "outputs": [],
   "source": [
    "M=4\n",
    "for l in trucks:\n",
    "    for d in range(4):  # Maximum number of days to consider\n",
    "        # model.addConstr((ArrivalDay[l] == d) >> (ArrivalDayBinary[(l, d)] == 1))\n",
    "        # model.addConstr((ArrivalDay[l] != d) >> (ArrivalDayBinary[(l, d)] == 0))\n",
    "        model.addConstr(ArrivalDay[l] - d <= M * (1 - ArrivalDayBinary[(l, d)]))\n",
    "        model.addConstr(ArrivalDay[l] - d >= 1 - M * ArrivalDayBinary[(l, d)])"
   ]
  },
  {
   "cell_type": "code",
   "execution_count": 107,
   "metadata": {},
   "outputs": [],
   "source": [
    "# # 6. Sorting Capacity: Each PZE should have enough capacity to accommodate all the incoming trucks\n",
    "# for j in destination_list:\n",
    "#     working_hours = destination_df[destination_df['Destination_ID'] == j]['End of lay-on'].values[0] - destination_df[destination_df['Destination_ID'] == j]['Start of shift'].values[0]\n",
    "#     sorting_capacity_per_day = working_hours * destination_df[destination_df['Destination_ID'] == j]['Sorting capacity'].values[0]\n",
    "    \n",
    "#     # Constraint to ensure that the sorting capacity used on each day does not exceed the capacity\n",
    "#     for d in range(4):  # Maximum number of days to consider\n",
    "#         model.addConstr(\n",
    "#             quicksum(X[(i, j, k, l)] * source_df[source_df['id'] == k]['Consignment quantity'].values[0]\n",
    "#                      for i in source_list if j != i\n",
    "#                      for k in consignment_list\n",
    "#                      for l in trucks\n",
    "#                      if (i, j, k) in valid_combinations) * ArrivalDayBinary[(l, d)] <= sorting_capacity_per_day,\n",
    "#             name=f\"SortingCapacity_{j}_{d}\"\n",
    "        # )"
   ]
  },
  {
   "cell_type": "code",
   "execution_count": 108,
   "metadata": {},
   "outputs": [],
   "source": [
    "for j in destination_list:\n",
    "    working_hours = destination_df[destination_df['Destination_ID'] == j]['End of lay-on'].values[0] - destination_df[destination_df['Destination_ID'] == j]['Start of shift'].values[0]\n",
    "    sorting_capacity_per_day = working_hours * destination_df[destination_df['Destination_ID'] == j]['Sorting capacity'].values[0]\n",
    "    \n",
    "    for d in range(4):  # Maximum number of days to consider\n",
    "        model.addConstr(\n",
    "            quicksum(X[(i, j, k, l)] * source_df[source_df['id'] == k]['Consignment quantity'].values[0] * ArrivalDayBinary[(l, d)]\n",
    "                     for i in source_list if j != i\n",
    "                     for k in consignment_list\n",
    "                     for l in trucks\n",
    "                     if (i, j, k) in valid_combinations) <= sorting_capacity_per_day,\n",
    "            name=f\"SortingCapacity_{j}_{d}\"\n",
    "        )\n"
   ]
  },
  {
   "cell_type": "code",
   "execution_count": 109,
   "metadata": {},
   "outputs": [],
   "source": [
    "# model.setParam('TimeLimit', 100)"
   ]
  },
  {
   "cell_type": "code",
   "execution_count": 110,
   "metadata": {},
   "outputs": [
    {
     "name": "stdout",
     "output_type": "stream",
     "text": [
      "Gurobi Optimizer version 11.0.2 build v11.0.2rc0 (win64 - Windows 11.0 (22631.2))\n",
      "\n",
      "CPU model: 12th Gen Intel(R) Core(TM) i5-1240P, instruction set [SSE2|AVX|AVX2]\n",
      "Thread count: 12 physical cores, 16 logical processors, using up to 16 threads\n",
      "\n",
      "Optimize a model with 433378 rows, 288900 columns and 1725900 nonzeros\n",
      "Model fingerprint: 0xb04c0986\n",
      "Model has 20 quadratic constraints\n",
      "Variable types: 300 continuous, 288600 integer (144900 binary)\n",
      "Coefficient statistics:\n",
      "  Matrix range     [1e+00, 2e+01]\n",
      "  QMatrix range    [2e+02, 2e+03]\n",
      "  Objective range  [1e+00, 1e+00]\n",
      "  Bounds range     [1e+00, 3e+00]\n",
      "  RHS range        [1e+00, 3e+01]\n",
      "  QRHS range       [8e+04, 4e+05]\n",
      "Presolve removed 599 rows and 300 columns\n",
      "Presolve time: 4.32s\n",
      "Presolved: 862994 rows, 718800 columns, 3468600 nonzeros\n",
      "Variable types: 300 continuous, 718500 integer (574800 binary)\n",
      "Deterministic concurrent LP optimizer: primal simplex, dual simplex, and barrier\n",
      "Showing barrier log only...\n",
      "\n",
      "Root barrier log...\n",
      "\n",
      "\n",
      "Barrier performed 0 iterations in 19.00 seconds (19.90 work units)\n",
      "Barrier solve interrupted - model solved by another algorithm\n",
      "\n",
      "Concurrent spin time: 0.04s\n",
      "\n",
      "Solved with dual simplex\n",
      "\n",
      "Root relaxation: infeasible, 0 iterations, 3.43 seconds (3.01 work units)\n",
      "\n",
      "Explored 1 nodes (0 simplex iterations) in 19.22 seconds (19.90 work units)\n",
      "Thread count was 16 (of 16 available processors)\n",
      "\n",
      "Solution count 0\n",
      "No other solutions better than -1e+100\n",
      "\n",
      "Model is infeasible\n",
      "Best objective -, best bound -, gap -\n"
     ]
    }
   ],
   "source": [
    "# Solve the model\n",
    "model.optimize()"
   ]
  },
  {
   "cell_type": "code",
   "execution_count": 111,
   "metadata": {},
   "outputs": [],
   "source": [
    "# Accessing ArrivalDay values after optimization\n",
    "if model.status in [GRB.OPTIMAL, GRB.TIME_LIMIT, GRB.SUBOPTIMAL]:\n",
    "    # Extract the data into a DataFrame\n",
    "    data = []\n",
    "    k_set = set()\n",
    "    for (i, j, k, l) in X.keys():\n",
    "        if (Z[l].X == 1 ) and (X[i,j,k,l].X == 1.0):\n",
    "            start_shift = destination_df[destination_df['Destination_ID'] == j]['Start of shift'].values[0]\n",
    "            end_shift = destination_df[destination_df['Destination_ID'] == j]['End of lay-on'].values[0]\n",
    "            travel_time = trucking_df[(trucking_df['Origin_ID'] == i) & (trucking_df['Destination_ID'] == j)]['OSRM_time [sek]'].values[0] / 3600\n",
    "            arrival_time = T[l].X + travel_time\n",
    "            data.append({\n",
    "                'Origin(PZA)': i,\n",
    "                'Destination (PZE)': j,\n",
    "                'Consignment ID': k,\n",
    "                'Truck Id': l,\n",
    "                'Departure time': T[l].X,\n",
    "                'Arrival Day': ArrivalDay[l].X,\n",
    "                \"Destination Start Shift\": start_shift,\n",
    "                \"Destination End Shift\": end_shift,\n",
    "                \"Travel Time\": travel_time\n",
    "                \n",
    "          })"
   ]
  },
  {
   "cell_type": "code",
   "execution_count": 92,
   "metadata": {},
   "outputs": [],
   "source": [
    "df = pd.DataFrame(data)"
   ]
  },
  {
   "cell_type": "code",
   "execution_count": 93,
   "metadata": {},
   "outputs": [],
   "source": [
    "import os\n",
    "path = os.getcwd()\n",
    "df.to_csv(\"output/output.csv\")"
   ]
  },
  {
   "cell_type": "code",
   "execution_count": 94,
   "metadata": {},
   "outputs": [
    {
     "ename": "AttributeError",
     "evalue": "Unable to retrieve attribute 'X'",
     "output_type": "error",
     "traceback": [
      "\u001b[1;31m---------------------------------------------------------------------------\u001b[0m",
      "\u001b[1;31mAttributeError\u001b[0m                            Traceback (most recent call last)",
      "Cell \u001b[1;32mIn[94], line 1\u001b[0m\n\u001b[1;32m----> 1\u001b[0m \u001b[43mquicksum\u001b[49m\u001b[43m(\u001b[49m\u001b[43mZ\u001b[49m\u001b[43m[\u001b[49m\u001b[43ml\u001b[49m\u001b[43m]\u001b[49m\u001b[38;5;241;43m.\u001b[39;49m\u001b[43mX\u001b[49m\u001b[43m \u001b[49m\u001b[38;5;28;43;01mfor\u001b[39;49;00m\u001b[43m \u001b[49m\u001b[43ml\u001b[49m\u001b[43m \u001b[49m\u001b[38;5;129;43;01min\u001b[39;49;00m\u001b[43m \u001b[49m\u001b[43mtrucks\u001b[49m\u001b[43m)\u001b[49m\n",
      "File \u001b[1;32msrc\\\\gurobipy\\\\gurobi.pxi:3842\u001b[0m, in \u001b[0;36mgurobipy.quicksum\u001b[1;34m()\u001b[0m\n",
      "Cell \u001b[1;32mIn[94], line 1\u001b[0m, in \u001b[0;36m<genexpr>\u001b[1;34m(.0)\u001b[0m\n\u001b[1;32m----> 1\u001b[0m quicksum(\u001b[43mZ\u001b[49m\u001b[43m[\u001b[49m\u001b[43ml\u001b[49m\u001b[43m]\u001b[49m\u001b[38;5;241;43m.\u001b[39;49m\u001b[43mX\u001b[49m \u001b[38;5;28;01mfor\u001b[39;00m l \u001b[38;5;129;01min\u001b[39;00m trucks)\n",
      "File \u001b[1;32msrc\\\\gurobipy\\\\var.pxi:125\u001b[0m, in \u001b[0;36mgurobipy.Var.__getattr__\u001b[1;34m()\u001b[0m\n",
      "File \u001b[1;32msrc\\\\gurobipy\\\\var.pxi:153\u001b[0m, in \u001b[0;36mgurobipy.Var.getAttr\u001b[1;34m()\u001b[0m\n",
      "File \u001b[1;32msrc\\\\gurobipy\\\\attrutil.pxi:103\u001b[0m, in \u001b[0;36mgurobipy._getattr\u001b[1;34m()\u001b[0m\n",
      "\u001b[1;31mAttributeError\u001b[0m: Unable to retrieve attribute 'X'"
     ]
    }
   ],
   "source": [
    "quicksum(Z[l].X for l in trucks)"
   ]
  },
  {
   "cell_type": "code",
   "execution_count": null,
   "metadata": {},
   "outputs": [
    {
     "data": {
      "text/html": [
       "<div>\n",
       "<style scoped>\n",
       "    .dataframe tbody tr th:only-of-type {\n",
       "        vertical-align: middle;\n",
       "    }\n",
       "\n",
       "    .dataframe tbody tr th {\n",
       "        vertical-align: top;\n",
       "    }\n",
       "\n",
       "    .dataframe thead th {\n",
       "        text-align: right;\n",
       "    }\n",
       "</style>\n",
       "<table border=\"1\" class=\"dataframe\">\n",
       "  <thead>\n",
       "    <tr style=\"text-align: right;\">\n",
       "      <th></th>\n",
       "      <th>Origin(PZA)</th>\n",
       "      <th>Destination (PZE)</th>\n",
       "      <th>Consignment ID</th>\n",
       "      <th>Truck Id</th>\n",
       "      <th>Departure time</th>\n",
       "      <th>Arrival Day</th>\n",
       "      <th>Destination Start Shift</th>\n",
       "      <th>Destination End Shift</th>\n",
       "      <th>Travel Time</th>\n",
       "    </tr>\n",
       "  </thead>\n",
       "  <tbody>\n",
       "    <tr>\n",
       "      <th>0</th>\n",
       "      <td>01.1.1.PZ</td>\n",
       "      <td>04.1.1.PZ</td>\n",
       "      <td>7791768</td>\n",
       "      <td>62</td>\n",
       "      <td>22.0</td>\n",
       "      <td>0.0</td>\n",
       "      <td>22.0</td>\n",
       "      <td>30.75</td>\n",
       "      <td>2.182361</td>\n",
       "    </tr>\n",
       "    <tr>\n",
       "      <th>1</th>\n",
       "      <td>01.1.1.PZ</td>\n",
       "      <td>04.1.1.PZ</td>\n",
       "      <td>7791769</td>\n",
       "      <td>62</td>\n",
       "      <td>22.0</td>\n",
       "      <td>0.0</td>\n",
       "      <td>22.0</td>\n",
       "      <td>30.75</td>\n",
       "      <td>2.182361</td>\n",
       "    </tr>\n",
       "    <tr>\n",
       "      <th>2</th>\n",
       "      <td>01.1.1.PZ</td>\n",
       "      <td>04.1.1.PZ</td>\n",
       "      <td>7791770</td>\n",
       "      <td>61</td>\n",
       "      <td>22.0</td>\n",
       "      <td>0.0</td>\n",
       "      <td>22.0</td>\n",
       "      <td>30.75</td>\n",
       "      <td>2.182361</td>\n",
       "    </tr>\n",
       "    <tr>\n",
       "      <th>3</th>\n",
       "      <td>01.1.1.PZ</td>\n",
       "      <td>04.1.1.PZ</td>\n",
       "      <td>7791771</td>\n",
       "      <td>61</td>\n",
       "      <td>22.0</td>\n",
       "      <td>0.0</td>\n",
       "      <td>22.0</td>\n",
       "      <td>30.75</td>\n",
       "      <td>2.182361</td>\n",
       "    </tr>\n",
       "    <tr>\n",
       "      <th>4</th>\n",
       "      <td>01.1.1.PZ</td>\n",
       "      <td>04.1.1.PZ</td>\n",
       "      <td>7791772</td>\n",
       "      <td>299</td>\n",
       "      <td>22.0</td>\n",
       "      <td>0.0</td>\n",
       "      <td>22.0</td>\n",
       "      <td>30.75</td>\n",
       "      <td>2.182361</td>\n",
       "    </tr>\n",
       "  </tbody>\n",
       "</table>\n",
       "</div>"
      ],
      "text/plain": [
       "  Origin(PZA) Destination (PZE)  Consignment ID  Truck Id  Departure time  \\\n",
       "0   01.1.1.PZ         04.1.1.PZ         7791768        62            22.0   \n",
       "1   01.1.1.PZ         04.1.1.PZ         7791769        62            22.0   \n",
       "2   01.1.1.PZ         04.1.1.PZ         7791770        61            22.0   \n",
       "3   01.1.1.PZ         04.1.1.PZ         7791771        61            22.0   \n",
       "4   01.1.1.PZ         04.1.1.PZ         7791772       299            22.0   \n",
       "\n",
       "   Arrival Day  Destination Start Shift  Destination End Shift  Travel Time  \n",
       "0          0.0                     22.0                  30.75     2.182361  \n",
       "1          0.0                     22.0                  30.75     2.182361  \n",
       "2          0.0                     22.0                  30.75     2.182361  \n",
       "3          0.0                     22.0                  30.75     2.182361  \n",
       "4          0.0                     22.0                  30.75     2.182361  "
      ]
     },
     "execution_count": 43,
     "metadata": {},
     "output_type": "execute_result"
    }
   ],
   "source": [
    "df.head()"
   ]
  },
  {
   "cell_type": "code",
   "execution_count": null,
   "metadata": {},
   "outputs": [],
   "source": [
    "model.Status"
   ]
  },
  {
   "cell_type": "code",
   "execution_count": 98,
   "metadata": {},
   "outputs": [
    {
     "data": {
      "text/plain": [
       "0     10000\n",
       "1     28000\n",
       "2     30000\n",
       "3     40000\n",
       "4     30000\n",
       "5     30000\n",
       "6     24200\n",
       "7     29100\n",
       "8     15000\n",
       "9     35300\n",
       "10    25000\n",
       "11    20700\n",
       "12    28900\n",
       "13    29500\n",
       "14    29700\n",
       "15    28800\n",
       "16    40000\n",
       "17    29300\n",
       "18    29300\n",
       "19    29300\n",
       "20    36100\n",
       "21    29000\n",
       "22    29800\n",
       "23    35800\n",
       "24    29200\n",
       "25    36000\n",
       "26    29900\n",
       "27    35400\n",
       "28    29700\n",
       "29    29900\n",
       "30    28600\n",
       "31    29800\n",
       "32    29500\n",
       "33    22000\n",
       "34    29200\n",
       "35    29300\n",
       "36    34600\n",
       "37    35200\n",
       "38    29100\n",
       "39    29700\n",
       "40    29700\n",
       "Name: Sorting capacity, dtype: int64"
      ]
     },
     "execution_count": 98,
     "metadata": {},
     "output_type": "execute_result"
    }
   ],
   "source": [
    "destination_df['Sorting capacity']"
   ]
  },
  {
   "cell_type": "code",
   "execution_count": null,
   "metadata": {},
   "outputs": [],
   "source": []
  }
 ],
 "metadata": {
  "kernelspec": {
   "display_name": "Python 3",
   "language": "python",
   "name": "python3"
  },
  "language_info": {
   "codemirror_mode": {
    "name": "ipython",
    "version": 3
   },
   "file_extension": ".py",
   "mimetype": "text/x-python",
   "name": "python",
   "nbconvert_exporter": "python",
   "pygments_lexer": "ipython3",
   "version": "3.11.9"
  }
 },
 "nbformat": 4,
 "nbformat_minor": 2
}
