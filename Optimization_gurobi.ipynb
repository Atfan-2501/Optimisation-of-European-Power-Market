{
 "cells": [
  {
   "cell_type": "code",
   "execution_count": null,
   "metadata": {},
   "outputs": [],
   "source": [
    "!pip install gurobipy"
   ]
  },
  {
   "cell_type": "code",
   "execution_count": null,
   "metadata": {},
   "outputs": [],
   "source": [
    "import pandas as pd\n",
    "from gurobipy import *\n"
   ]
  },
  {
   "cell_type": "code",
   "execution_count": null,
   "metadata": {},
   "outputs": [],
   "source": [
    "# Reading the data from the excel sheets\n",
    "source_df = pd.read_excel(\"Source_facility_info.xlsx\", sheet_name=\"PZA\")\n",
    "destination_df = pd.read_excel(\"Destination_facility_info.xlsx\", sheet_name=\"PZE\")\n",
    "trucking_df = pd.read_excel(\"Trucking_info.xlsx\", sheet_name=\"Truck\")\n",
    "\n",
    "# Convert relevant columns to datetime and normalize shift times\n",
    "def normalize_shift_times(row):\n",
    "    start_hour = row['Start of shift'].hour + row['Start of shift'].minute / 60\n",
    "    end_hour = row['End of lay-on'].hour + row['End of lay-on'].minute / 60\n",
    "    if end_hour < start_hour:\n",
    "        end_hour += 24  # normalize end_hour for the next day\n",
    "    return pd.Series([start_hour, end_hour])\n",
    "\n",
    "destination_df[['Start of shift', 'End of lay-on']] = destination_df.apply(normalize_shift_times, axis=1)\n",
    "source_df['planned_end_of_loading'] = pd.to_datetime(source_df['planned_end_of_loading'])\n",
    "\n"
   ]
  },
  {
   "cell_type": "code",
   "execution_count": null,
   "metadata": {},
   "outputs": [],
   "source": [
    "# Initialize the model\n",
    "model = Model(\"DHL_Optimization\")\n",
    "\n",
    "# Decision Variables\n",
    "source_list = list(trucking_df['Origin_ID'].unique()[:2])  # Index of PZA\n",
    "destination_list = list(trucking_df['Destination_ID'].unique()[:2])  # Index of PZE\n",
    "routes_list = [(i, j) for i in source_list for j in destination_list if i != j]\n",
    "consignment_list = [\n",
    "    x for (i, j) in routes_list\n",
    "    for x in source_df[(source_df['Origin_ID'] == i) & (source_df['Destination_ID'] == j)]['id'].values\n",
    "]\n",
    "\n",
    "valid_combinations = [(i, j, k) for (i, j) in routes_list for k in consignment_list if k in source_df[(source_df['Origin_ID'] == i) & (source_df['Destination_ID'] == j)]['id'].values]\n",
    "\n",
    "trucks = range(100)\n",
    "\n",
    "# Decision Variables\n",
    "X = {}\n",
    "Z = {}\n",
    "T = {}\n",
    "ArrivalDay = {}\n",
    "ArrivalTime = {}\n",
    "\n",
    "for (i, j, k, l) in [(i, j, k, l) for (i, j, k) in valid_combinations for l in trucks]:\n",
    "    X[(i, j, k, l)] = model.addVar(vtype=GRB.BINARY, name=f\"X_{i}_{j}_{k}_{l}\")\n",
    "    ArrivalTime[(i, j, k, l)] = model.addVar(lb=0, ub=24, vtype=GRB.CONTINUOUS, name=f\"ArrivalTime_{i}_{j}_{k}_{l}\")\n",
    "\n",
    "for l in trucks:\n",
    "    Z[l] = model.addVar(vtype=GRB.BINARY, name=f\"Z_{l}\")\n",
    "    T[l] = model.addVar(lb=0, vtype=GRB.CONTINUOUS, name=f\"T_{l}\")\n",
    "    ArrivalDay[l] = model.addVar(vtype=GRB.INTEGER, name=f\"ArrivalDay_{l}\")\n"
   ]
  },
  {
   "cell_type": "code",
   "execution_count": null,
   "metadata": {},
   "outputs": [],
   "source": [
    "# Objective function: Minimize the total arrival days\n",
    "model.setObjective(quicksum(ArrivalDay[l] for l in trucks), GRB.MINIMIZE)"
   ]
  },
  {
   "cell_type": "code",
   "execution_count": null,
   "metadata": {},
   "outputs": [],
   "source": [
    "# Constraints\n",
    "# 1. Each truck can carry at most 2 consignments\n",
    "for l in trucks:\n",
    "    model.addConstr(quicksum(X[(i, j, k, l)] for (i, j, k) in valid_combinations) <= 2 * Z[l])"
   ]
  },
  {
   "cell_type": "code",
   "execution_count": null,
   "metadata": {},
   "outputs": [],
   "source": [
    "# 2. Consignment can only be released after the latest release time of the consignments\n",
    "for (i, j, k) in valid_combinations:\n",
    "    release_time = source_df[source_df['id'] == k]['planned_end_of_loading'].dt.hour.values[0]  # Convert to hours\n",
    "    for l in trucks:\n",
    "        model.addConstr(T[l] >= release_time * X[(i, j, k, l)])"
   ]
  },
  {
   "cell_type": "code",
   "execution_count": null,
   "metadata": {},
   "outputs": [],
   "source": [
    "\n",
    "# 3. Truck must arrive at the destination within the operational hours\n",
    "for (i, j, k) in valid_combinations:\n",
    "    start_shift = destination_df[destination_df['Destination_ID'] == j]['Start of shift'].values[0]\n",
    "    end_shift = destination_df[destination_df['Destination_ID'] == j]['End of lay-on'].values[0]\n",
    "    travel_time = trucking_df[(trucking_df['Origin_ID'] == i) & (trucking_df['Destination_ID'] == j)]['OSRM_time [sek]'].values[0] / 3600  # Convert to hours\n",
    "    for l in trucks:\n",
    "        arrival_time_var = ArrivalTime[(i, j, k, l)]\n",
    "        model.addConstr(arrival_time_var == (T[l] + travel_time * X[(i, j, k, l)] + 24 * ArrivalDay[l]) - 24 * model.addVar(vtype=GRB.INTEGER, name=f\"multiplier_{i}_{j}_{k}_{l}\"))\n",
    "        model.addConstr(arrival_time_var >= start_shift)\n",
    "        model.addConstr(arrival_time_var <= end_shift)"
   ]
  },
  {
   "cell_type": "code",
   "execution_count": null,
   "metadata": {},
   "outputs": [],
   "source": [
    "# 4. Each consignment must be assigned to exactly one truck\n",
    "for k in consignment_list:\n",
    "    model.addConstr(quicksum(X[(i, j, k, l)] for (i, j) in routes_list for l in trucks if (i, j, k) in valid_combinations) == 1)"
   ]
  },
  {
   "cell_type": "code",
   "execution_count": null,
   "metadata": {},
   "outputs": [],
   "source": [
    "# 5. Flow conservation: If a truck leaves a source, it must go to one destination\n",
    "for l in trucks:\n",
    "    for i in source_list:\n",
    "        model.addConstr(quicksum(X[(i, j, k, l)] for j in destination_list if j != i for k in consignment_list if (i, j, k) in valid_combinations) >= Z[l])"
   ]
  },
  {
   "cell_type": "code",
   "execution_count": null,
   "metadata": {},
   "outputs": [],
   "source": [
    "# 6. Sorting Capacity: Each PZE should have enough capacity to accommodate all the incoming trucks\n",
    "for j in destination_list:\n",
    "    working_hours = destination_df[destination_df['Destination_ID'] == j]['End of lay-on'].values[0] - destination_df[destination_df['Destination_ID'] == j]['Start of shift'].values[0]\n",
    "    model.addConstr(quicksum(X[(i, j, k, l)] * source_df[source_df['id'] == k]['Consignment quantity'].values[0]\n",
    "                      for i in source_list if j != i for k in consignment_list for l in trucks if (i, j, k) in valid_combinations) <= working_hours * destination_df[destination_df['Destination_ID'] == j]['Sorting capacity'].values[0])"
   ]
  },
  {
   "cell_type": "code",
   "execution_count": null,
   "metadata": {},
   "outputs": [],
   "source": [
    "# Solve the model\n",
    "model.optimize()"
   ]
  },
  {
   "cell_type": "code",
   "execution_count": null,
   "metadata": {},
   "outputs": [],
   "source": [
    "# Print the objective value and solution\n",
    "print(\"Objective value:\", model.objVal)\n",
    "\n",
    "solution = {}\n",
    "for v in model.getVars():\n",
    "    if v.x > 0:\n",
    "        solution[v.varName] = v.x\n",
    "\n",
    "print(\"Solution:\", solution)"
   ]
  },
  {
   "cell_type": "code",
   "execution_count": null,
   "metadata": {},
   "outputs": [],
   "source": []
  }
 ],
 "metadata": {
  "kernelspec": {
   "display_name": "Python 3",
   "language": "python",
   "name": "python3"
  },
  "language_info": {
   "codemirror_mode": {
    "name": "ipython",
    "version": 3
   },
   "file_extension": ".py",
   "mimetype": "text/x-python",
   "name": "python",
   "nbconvert_exporter": "python",
   "pygments_lexer": "ipython3",
   "version": "3.11.9"
  }
 },
 "nbformat": 4,
 "nbformat_minor": 2
}
