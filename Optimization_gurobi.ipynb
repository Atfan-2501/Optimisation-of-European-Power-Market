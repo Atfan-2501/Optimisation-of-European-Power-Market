{
 "cells": [
  {
   "cell_type": "code",
   "execution_count": 3,
   "metadata": {},
   "outputs": [],
   "source": [
    "import pandas as pd\n",
    "from gurobipy import *\n",
    "import numpy as np"
   ]
  },
  {
   "cell_type": "code",
   "execution_count": 4,
   "metadata": {},
   "outputs": [],
   "source": [
    "# Reading the data from the excel sheets\n",
    "source_df = pd.read_excel(\"Source_facility_info.xlsx\", sheet_name=\"PZA\")\n",
    "destination_df = pd.read_excel(\"Destination_facility_info.xlsx\", sheet_name=\"PZE\")\n",
    "trucking_df = pd.read_excel(\"Trucking_info.xlsx\", sheet_name=\"Truck\")\n",
    "\n",
    "# Convert relevant columns to datetime and normalize shift times\n",
    "def normalize_shift_times(row):\n",
    "    start_hour = row['Start of shift'].hour + row['Start of shift'].minute / 60\n",
    "    end_hour = row['End of lay-on'].hour + row['End of lay-on'].minute / 60\n",
    "    if end_hour < start_hour:\n",
    "        end_hour += 24  # normalize end_hour for the next day\n",
    "    return pd.Series([start_hour, end_hour])\n",
    "\n",
    "destination_df[['Start of shift', 'End of lay-on']] = destination_df.apply(normalize_shift_times, axis=1)\n",
    "source_df['planned_end_of_loading'] = pd.to_datetime(source_df['planned_end_of_loading'])\n",
    "\n"
   ]
  },
  {
   "cell_type": "code",
   "execution_count": 5,
   "metadata": {},
   "outputs": [
    {
     "name": "stdout",
     "output_type": "stream",
     "text": [
      "Set parameter Username\n",
      "Academic license - for non-commercial use only - expires 2025-05-25\n"
     ]
    }
   ],
   "source": [
    "# Initialize the model\n",
    "model = Model(\"DHL_Optimization\")\n",
    "\n",
    "# Decision Variables\n",
    "source_list = list(trucking_df['Origin_ID'].unique()[:5])  # Index of PZA\n",
    "destination_list = list(trucking_df['Destination_ID'].unique()[:1])  # Index of PZE\n",
    "routes_list = [(i, j) for i in source_list for j in destination_list if i != j]\n",
    "consignment_list = [\n",
    "    x for (i, j) in routes_list\n",
    "    for x in source_df[(source_df['Origin_ID'] == i) & (source_df['Destination_ID'] == j)]['id'].values\n",
    "]\n",
    "\n",
    "valid_combinations = [(i, j, k) for (i, j) in routes_list for k in consignment_list if k in source_df[(source_df['Origin_ID'] == i) & (source_df['Destination_ID'] == j)]['id'].values]\n",
    "\n",
    "trucks = range(300)\n",
    "\n",
    "# Decision Variables\n",
    "X = {}\n",
    "Z = {}\n",
    "T = {}\n",
    "# ArrivalDay = {}\n",
    "ArrivalTime = {}\n",
    "ArrivalDayBinary = {}\n",
    "\n",
    "for (i, j, k, l) in [(i, j, k, l) for (i, j, k) in valid_combinations for l in trucks]:\n",
    "    X[(i, j, k, l)] = model.addVar(vtype=GRB.BINARY, name=f\"X_{i}_{j}_{k}_{l}\")\n",
    "\n",
    "for l in trucks:\n",
    "    Z[l] = model.addVar(vtype=GRB.BINARY, name=f\"Z_{l}\")\n",
    "    T[l] = model.addVar(lb=0, vtype=GRB.CONTINUOUS, name=f\"T_{l}\")\n",
    "    ArrivalDay[l] = model.addVar(lb = 1, ub=4, vtype=GRB.INTEGER, name=f\"ArrivalDay_{l}\")\n",
    "    ArrivalTime[l] = model.addVar(lb=0, ub=24, vtype=GRB.CONTINUOUS, name=f\"ArrivalTime_{i}_{j}_{k}_{l}\")\n",
    "\n",
    "    for d in range(1, 7):  # Maximum number of days to consider\n",
    "        ArrivalDayBinary[(l, d)] = model.addVar(vtype=GRB.BINARY, name=f\"ArrivalDayBinary_{l}_{d}\")\n"
   ]
  },
  {
   "cell_type": "code",
   "execution_count": 6,
   "metadata": {},
   "outputs": [],
   "source": [
    "# Objective function: Minimize the total arrival time\n",
    "model.setObjective(\n",
    "    quicksum(X[i, j, k, l] for (i, j, k, l) in [(i, j, k, l) for (i, j, k) in valid_combinations for l in trucks]) \n",
    "    - quicksum(Z[l] for l in trucks) \n",
    "    - quicksum(d*ArrivalDayBinary[(l, d)] for l in trucks for d in range(1, 7)), \n",
    "    GRB.MAXIMIZE\n",
    ")"
   ]
  },
  {
   "cell_type": "code",
   "execution_count": 7,
   "metadata": {},
   "outputs": [],
   "source": [
    "# Constraints\n",
    "# 1. Each truck can carry at most 2 consignments\n",
    "for l in trucks:\n",
    "    model.addConstr(quicksum(X[(i, j, k, l)] for (i, j, k) in valid_combinations) <= 2 * Z[l])"
   ]
  },
  {
   "cell_type": "code",
   "execution_count": null,
   "metadata": {},
   "outputs": [],
   "source": [
    "# 2. Consignment can only be released after the latest release time of the consignments\n",
    "for (i, j, k) in valid_combinations:\n",
    "    release_time = source_df[source_df['id'] == k]['planned_end_of_loading'].dt.hour.values[0]  # Convert to hours\n",
    "    for l in trucks:\n",
    "        model.addConstr(T[l] >= release_time * X[(i, j, k, l)])"
   ]
  },
  {
   "cell_type": "code",
   "execution_count": null,
   "metadata": {},
   "outputs": [],
   "source": [
    "# Constraint 3: Truck must arrive at the destination within the operational hours\n",
    "for (i, j, k) in valid_combinations:\n",
    "    start_shift = destination_df[destination_df['Destination_ID'] == j]['Start of shift'].values[0]\n",
    "    end_shift = destination_df[destination_df['Destination_ID'] == j]['End of lay-on'].values[0]\n",
    "    travel_time = trucking_df[(trucking_df['Origin_ID'] == i) & (trucking_df['Destination_ID'] == j)]['OSRM_time [sek]'].values[0] / 3600  # Convert to hours\n",
    "    # print(f\"Route {i}->{j}->{k} | Start Shift: {start_shift}, End Shift: {end_shift}, Travel Time: {travel_time}\")\n",
    "    for l in trucks:\n",
    "        ArrivalTime[(l)] = (T[l] + travel_time * X[(i, j, k, l)] + 24 * quicksum(d*ArrivalDayBinary[(l, d)] for d in range(1, 7))) - 24 * model.addVar(vtype=GRB.INTEGER, name=f\"multiplier_{i}_{j}_{k}_{l}\")\n",
    "        model.addConstr(ArrivalTime[(l)] >= start_shift)\n",
    "        model.addConstr(ArrivalTime[(l)] <= end_shift)"
   ]
  },
  {
   "cell_type": "code",
   "execution_count": 8,
   "metadata": {},
   "outputs": [],
   "source": [
    "# 4. Each consignment must be assigned to exactly one truck\n",
    "for (i, j, k) in valid_combinations:\n",
    "    model.addConstr(quicksum(X[(i, j, k, l)] for l in trucks) == 1)"
   ]
  },
  {
   "cell_type": "code",
   "execution_count": null,
   "metadata": {},
   "outputs": [],
   "source": [
    "# M=4\n",
    "# for l in trucks:\n",
    "#         for d in range(1, 7): \n",
    "#                  # Maximum number of days to consider\n",
    "#                 model.addConstr(ArrivalDay[l] - d <= M * (1 - ArrivalDayBinary[(l, d)]))\n",
    "#                 model.addConstr(ArrivalDay[l] - d >= 1 - M * ArrivalDayBinary[(l, d)])"
   ]
  },
  {
   "cell_type": "code",
   "execution_count": 11,
   "metadata": {},
   "outputs": [
    {
     "name": "stdout",
     "output_type": "stream",
     "text": [
      "63125.00000000001\n"
     ]
    }
   ],
   "source": [
    "for j in destination_list:\n",
    "    working_hours = destination_df[destination_df['Destination_ID'] == j]['End of lay-on'].values[0] - destination_df[destination_df['Destination_ID'] == j]['Start of shift'].values[0]\n",
    "    sorting_capacity_per_day =  working_hours/2 * destination_df[destination_df['Destination_ID'] == j]['Sorting capacity'].values[0]\n",
    "    print(sorting_capacity_per_day)\n",
    "    for d in range(1, 7):  # Maximum number of days to consider\n",
    "        model.addConstr(\n",
    "            quicksum(X[(i, j, k, l)] * source_df[source_df['id'] == k]['Consignment quantity'].values[0] * ArrivalDayBinary[(l, d)]\n",
    "                     for i in source_list if j != i\n",
    "                     for k in consignment_list\n",
    "                     for l in trucks\n",
    "                     if (i, j, k) in valid_combinations) <= sorting_capacity_per_day,\n",
    "            name=f\"SortingCapacity_{j}_{d}\"\n",
    "        )\n"
   ]
  },
  {
   "cell_type": "code",
   "execution_count": 12,
   "metadata": {},
   "outputs": [],
   "source": [
    "for l in trucks:\n",
    "    model.addConstr(\n",
    "        quicksum(ArrivalDayBinary[(l, d)] for d in range(1, 7)) == 1,\n",
    "        name = f'Assigning Arrival Day to each truck'\n",
    "        )"
   ]
  },
  {
   "cell_type": "code",
   "execution_count": 13,
   "metadata": {},
   "outputs": [
    {
     "name": "stdout",
     "output_type": "stream",
     "text": [
      "Gurobi Optimizer version 11.0.2 build v11.0.2rc0 (win64 - Windows 11.0 (22631.2))\n",
      "\n",
      "CPU model: 12th Gen Intel(R) Core(TM) i5-1240P, instruction set [SSE2|AVX|AVX2]\n",
      "Thread count: 12 physical cores, 16 logical processors, using up to 16 threads\n",
      "\n",
      "Optimize a model with 686 rows, 27900 columns and 53700 nonzeros\n",
      "Model fingerprint: 0x2267084e\n",
      "Model has 18 quadratic constraints\n",
      "Variable types: 0 continuous, 27900 integer (27900 binary)\n",
      "Coefficient statistics:\n",
      "  Matrix range     [1e+00, 2e+00]\n",
      "  QMatrix range    [6e+02, 2e+03]\n",
      "  Objective range  [1e+00, 6e+00]\n",
      "  Bounds range     [1e+00, 1e+00]\n",
      "  RHS range        [1e+00, 1e+00]\n",
      "  QRHS range       [6e+04, 1e+05]\n",
      "Presolve time: 0.28s\n",
      "Presolved: 155492 rows, 182700 columns, 672900 nonzeros\n",
      "Variable types: 0 continuous, 182700 integer (182700 binary)\n",
      "Found heuristic solution: objective -453.0000000\n",
      "Deterministic concurrent LP optimizer: primal simplex, dual simplex, and barrier\n",
      "Showing barrier log only...\n",
      "\n",
      "Root barrier log...\n",
      "\n",
      "Ordering time: 0.00s\n",
      "\n",
      "Barrier statistics:\n",
      " AA' NZ     : 2.141e+04\n",
      " Factor NZ  : 2.193e+04 (roughly 1 MB of memory)\n",
      " Factor Ops : 1.250e+06 (less than 1 second per iteration)\n",
      " Threads    : 1\n",
      "\n",
      "                  Objective                Residual\n",
      "Iter       Primal          Dual         Primal    Dual     Compl     Time\n",
      "   0  -1.11136645e+04  4.30000000e+01  1.03e+02 0.00e+00  5.01e+01     2s\n",
      "   1  -8.63987639e+02  9.06674611e+03  2.13e-14 1.14e-13  6.59e+00     2s\n",
      "   2  -4.13801703e+02 -9.53387059e+01  3.20e-14 3.41e-13  2.11e-01     2s\n",
      "   3  -2.58736743e+02 -2.49480865e+02  2.84e-14 4.55e-13  6.15e-03     2s\n",
      "   4  -2.57525508e+02 -2.56748880e+02  3.20e-14 3.84e-17  5.16e-04     2s\n",
      "   5  -2.57445874e+02 -2.57444184e+02  7.82e-14 4.55e-13  1.12e-06     2s\n",
      "   6  -2.57445586e+02 -2.57445585e+02  4.97e-14 1.14e-13  1.12e-09     2s\n",
      "\n",
      "Barrier solved model in 6 iterations and 1.89 seconds (1.70 work units)\n",
      "Optimal objective -2.57445586e+02\n",
      "\n",
      "Concurrent spin time: 0.02s\n",
      "\n",
      "Solved with dual simplex\n",
      "\n",
      "Use crossover to convert LP symmetric solution to basic solution...\n",
      "\n",
      "Root relaxation: objective -2.574456e+02, 36350 iterations, 0.66 seconds (0.91 work units)\n",
      "\n",
      "    Nodes    |    Current Node    |     Objective Bounds      |     Work\n",
      " Expl Unexpl |  Obj  Depth IntInf | Incumbent    BestBd   Gap | It/Node Time\n",
      "\n",
      "     0     0 -257.44559    0 2002 -453.00000 -257.44559  43.2%     -    2s\n",
      "H    0     0                    -338.0000000 -257.44559  23.8%     -    2s\n",
      "     0     0 -258.00000    0 5109 -338.00000 -258.00000  23.7%     -   13s\n",
      "H    0     0                    -282.0000000 -258.00000  8.51%     -   14s\n",
      "H    0     0                    -276.0000000 -258.00000  6.52%     -   15s\n",
      "     0     0 -258.00000    0 4493 -276.00000 -258.00000  6.52%     -   68s\n",
      "     0     0 -258.00000    0 4137 -276.00000 -258.00000  6.52%     -   82s\n",
      "     0     0 -258.00000    0 3587 -276.00000 -258.00000  6.52%     -  119s\n",
      "     0     0 -258.00000    0 3129 -276.00000 -258.00000  6.52%     -  136s\n"
     ]
    }
   ],
   "source": [
    "# Solve the model\n",
    "model.optimize()"
   ]
  },
  {
   "cell_type": "code",
   "execution_count": null,
   "metadata": {},
   "outputs": [],
   "source": [
    "# Accessing ArrivalDay values after optimization\n",
    "if model.status in [GRB.OPTIMAL, GRB.TIME_LIMIT, GRB.SUBOPTIMAL]:\n",
    "    # Extract the data into a DataFrame\n",
    "    data = []\n",
    "    k_set = set()\n",
    "    for (i, j, k, l) in X.keys():\n",
    "        if (Z[l].X == 1 ) and (X[i,j,k,l].X == 1.0):\n",
    "            start_shift = destination_df[destination_df['Destination_ID'] == j]['Start of shift'].values[0]\n",
    "            end_shift = destination_df[destination_df['Destination_ID'] == j]['End of lay-on'].values[0]\n",
    "            travel_time = trucking_df[(trucking_df['Origin_ID'] == i) & (trucking_df['Destination_ID'] == j)]['OSRM_time [sek]'].values[0] / 3600\n",
    "            arrival_day = quicksum(d*ArrivalDayBinary[(l, d)].X for d in range(1, 7))\n",
    "            data.append({\n",
    "                'Origin(PZA)': i,\n",
    "                'Destination (PZE)': j,\n",
    "                'Consignment ID': k,\n",
    "                'Truck Id': l,\n",
    "                'Departure time': T[l].X,\n",
    "                'Arrival Day': arrival_day,\n",
    "                \"Destination Start Shift\": start_shift,\n",
    "                \"Destination End Shift\": end_shift,\n",
    "                \"Travel Time\": travel_time\n",
    "                \n",
    "          })"
   ]
  },
  {
   "cell_type": "code",
   "execution_count": null,
   "metadata": {},
   "outputs": [],
   "source": [
    "df = pd.DataFrame(data)"
   ]
  },
  {
   "cell_type": "code",
   "execution_count": null,
   "metadata": {},
   "outputs": [],
   "source": [
    "import os\n",
    "path = os.getcwd()\n",
    "df.to_csv(\"output/output.csv\")"
   ]
  },
  {
   "cell_type": "code",
   "execution_count": null,
   "metadata": {},
   "outputs": [],
   "source": [
    "model.write(\"file.lp\")"
   ]
  },
  {
   "cell_type": "code",
   "execution_count": null,
   "metadata": {},
   "outputs": [],
   "source": [
    "df.head()"
   ]
  },
  {
   "cell_type": "code",
   "execution_count": null,
   "metadata": {},
   "outputs": [],
   "source": []
  }
 ],
 "metadata": {
  "kernelspec": {
   "display_name": "Python 3",
   "language": "python",
   "name": "python3"
  },
  "language_info": {
   "codemirror_mode": {
    "name": "ipython",
    "version": 3
   },
   "file_extension": ".py",
   "mimetype": "text/x-python",
   "name": "python",
   "nbconvert_exporter": "python",
   "pygments_lexer": "ipython3",
   "version": "3.11.9"
  }
 },
 "nbformat": 4,
 "nbformat_minor": 2
}
