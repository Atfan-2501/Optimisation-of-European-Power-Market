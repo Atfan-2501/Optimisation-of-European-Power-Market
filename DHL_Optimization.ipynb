{
 "cells": [
  {
   "cell_type": "code",
   "execution_count": 1,
   "metadata": {},
   "outputs": [],
   "source": [
    "import pandas as pd\n",
    "import pulp as lp\n",
    "from pulp import *"
   ]
  },
  {
   "cell_type": "code",
   "execution_count": 2,
   "metadata": {},
   "outputs": [],
   "source": [
    "# Reading the data from the excel sheets.\n",
    "source_df = pd.read_excel(\"Source_facility_info.xlsx\", sheet_name= \"PZA\")\n",
    "destination_df = pd.read_excel(\"Destination_facility_info.xlsx\", sheet_name= \"PZE\")\n",
    "trucking_df = pd.read_excel(\"Trucking_info.xlsx\", sheet_name= \"Truck\")\n",
    "\n",
    "# Convert relevant columns to datetime# Convert start_shift and end_shift to numerical hours and normalize end_shift to handle the next day\n",
    "def normalize_shift_times(row):\n",
    "    start_hour = row['Start of shift'].hour + row['Start of shift'].minute / 60\n",
    "    end_hour = row['End of lay-on'].hour + row['End of lay-on'].minute / 60\n",
    "    if end_hour < start_hour:\n",
    "        end_hour += 24  # normalize end_hour for the next day\n",
    "    return pd.Series([start_hour, end_hour])\n",
    "\n",
    "destination_df[['Start of shift', 'End of lay-on']] = destination_df.apply(normalize_shift_times, axis=1)\n",
    "source_df['planned_end_of_loading'] = pd.to_datetime(source_df['planned_end_of_loading'])"
   ]
  },
  {
   "cell_type": "code",
   "execution_count": 3,
   "metadata": {},
   "outputs": [],
   "source": [
    "# Initialize the model\n",
    "model = lp.LpProblem(\"DHL_Optimization\", lp.LpMaximize)\n",
    "\n",
    "# Defining variables\n",
    "source_list = list(trucking_df['Origin_ID'].unique()[:3])  # Index of PZA\n",
    "destination_list = list(trucking_df['Destination_ID'].unique()[:3])  # Index of PZE\n",
    "routes_list = [(i, j) for i in source_list for j in destination_list if i != j]\n",
    "trucks = range(300)\n",
    "\n",
    "# Decision Variables\n",
    "# X - Whether a truck goes from I to J\n",
    "X = lp.LpVariable.dicts(\"X\", [(i, j, l) for (i, j) in routes_list for l in trucks], cat='Binary')\n",
    "# Y - Consignment K being carried by K or not\n",
    "Y = lp.LpVariable.dicts(\"Y\", [(k, l) for k in source_df['id'].unique() for l in trucks], cat='Binary')\n",
    "# Z - From a pool of Trucks, whether a truck is used or not\n",
    "Z = lp.LpVariable.dicts(\"Z\", trucks, cat='Binary')\n",
    "\n",
    "# T - Time of departure of a given truck\n",
    "T = lp.LpVariable.dicts(\"T\", trucks, lowBound=0, cat='Integer')\n",
    "\n",
    "ArrivalDay = lp.LpVariable.dicts(\"ArrivalDay\", trucks, lowBound=0, cat='Integer')  # 0 for same day, 1 for next day, etc."
   ]
  },
  {
   "cell_type": "code",
   "execution_count": 5,
   "metadata": {},
   "outputs": [],
   "source": [
    "# Combining the objective function: Maximizing the (E+1)th day output and minimizing the distance\n",
    "model += lp.lpSum(Z[l] for l in trucks) - 0.01 * lp.lpSum([\n",
    "    (trucking_df[(trucking_df['Origin_ID'] == i) & (trucking_df['Destination_ID'] == j)]['OSRM_time [sek]'].values[0] /3600) * X[(i, j, l)]\n",
    "    for (i, j) in routes_list for l in trucks\n",
    "])"
   ]
  },
  {
   "cell_type": "code",
   "execution_count": 6,
   "metadata": {},
   "outputs": [],
   "source": [
    "# Constraints\n",
    "# 1. Each truck can carry at most 2 consignments\n",
    "for l in trucks:\n",
    "    model += lp.lpSum([Y[(k, l)] for k in source_df['id']]) <= 2 * Z[l]"
   ]
  },
  {
   "cell_type": "code",
   "execution_count": null,
   "metadata": {},
   "outputs": [],
   "source": [
    "# 2. Consignment can only be released after the latest release time of the consignments\n",
    "for k in source_df['id']:\n",
    "    release_time = source_df[source_df['id'] == k]['planned_end_of_loading'].dt.hour  # Convert to hours\n",
    "    for l in trucks:\n",
    "        model += T[l] >= release_time * Y[(k, l)]"
   ]
  },
  {
   "cell_type": "code",
   "execution_count": null,
   "metadata": {},
   "outputs": [],
   "source": [
    "# 3. Truck must arrive at the destination within the operational hours\n",
    "\n",
    "for (i, j) in routes_list:\n",
    "    start_shift = destination_df[destination_df['Destination_ID'] == j]['Start of shift'].values[0]\n",
    "    end_shift = destination_df[destination_df['Destination_ID'] == j]['End of lay-on'].values[0]\n",
    "    travel_time = trucking_df[(trucking_df['Origin_ID'] == i) & (trucking_df['Destination_ID'] == j)]['OSRM_time [sek]'].values[0] / 3600  # Convert to hours\n",
    "    for l in trucks:\n",
    "        model += T[l] + travel_time * X[(i, j, l)]  >= start_shift # Account for day shift\n",
    "        model += T[l] + travel_time * X[(i, j, l)]  <= end_shift  # Account for end of shift"
   ]
  },
  {
   "cell_type": "code",
   "execution_count": 7,
   "metadata": {},
   "outputs": [],
   "source": [
    "# 4. Each consignment must be assigned to exactly one truck\n",
    "for k in source_df['id']:\n",
    "    model += lp.lpSum([Y[(k, l)] for l in trucks]) == 1"
   ]
  },
  {
   "cell_type": "code",
   "execution_count": 8,
   "metadata": {},
   "outputs": [],
   "source": [
    "# 5. Flow conservation: If a truck leaves a source, it must go to one destination\n",
    "for l in trucks:\n",
    "    for i in source_list:\n",
    "        model += lp.lpSum([X[(i, j, l)] for j in destination_list if j not in source_list]) == Z[l]"
   ]
  },
  {
   "cell_type": "code",
   "execution_count": 9,
   "metadata": {},
   "outputs": [
    {
     "data": {
      "text/plain": [
       "-1"
      ]
     },
     "execution_count": 9,
     "metadata": {},
     "output_type": "execute_result"
    }
   ],
   "source": [
    "# Solve the model\n",
    "model.solve()"
   ]
  },
  {
   "cell_type": "code",
   "execution_count": 10,
   "metadata": {},
   "outputs": [
    {
     "ename": "AttributeError",
     "evalue": "module 'pulp.pulp' has no attribute 'LpStatus'",
     "output_type": "error",
     "traceback": [
      "\u001b[1;31m---------------------------------------------------------------------------\u001b[0m",
      "\u001b[1;31mAttributeError\u001b[0m                            Traceback (most recent call last)",
      "Cell \u001b[1;32mIn[10], line 1\u001b[0m\n\u001b[1;32m----> 1\u001b[0m \u001b[43mpulp\u001b[49m\u001b[38;5;241;43m.\u001b[39;49m\u001b[43mLpStatus\u001b[49m\n",
      "\u001b[1;31mAttributeError\u001b[0m: module 'pulp.pulp' has no attribute 'LpStatus'"
     ]
    }
   ],
   "source": [
    "pulp.LpStatus"
   ]
  },
  {
   "cell_type": "code",
   "execution_count": null,
   "metadata": {},
   "outputs": [],
   "source": []
  }
 ],
 "metadata": {
  "kernelspec": {
   "display_name": "Python 3",
   "language": "python",
   "name": "python3"
  },
  "language_info": {
   "codemirror_mode": {
    "name": "ipython",
    "version": 3
   },
   "file_extension": ".py",
   "mimetype": "text/x-python",
   "name": "python",
   "nbconvert_exporter": "python",
   "pygments_lexer": "ipython3",
   "version": "3.11.9"
  }
 },
 "nbformat": 4,
 "nbformat_minor": 2
}
